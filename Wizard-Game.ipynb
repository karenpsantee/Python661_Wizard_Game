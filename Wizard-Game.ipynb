{
 "cells": [
  {
   "cell_type": "markdown",
   "id": "ef98fc83",
   "metadata": {},
   "source": [
    "### This is not reliable, well it's not even functional.  It's just about testing and learning about voila\n"
   ]
  },
  {
   "cell_type": "code",
   "execution_count": 1,
   "id": "binding-glance",
   "metadata": {},
   "outputs": [],
   "source": [
    "import warnings\n",
    "warnings.filterwarnings('ignore')\n",
    "\n",
    "import ipywidgets as widgets\n",
    "from IPython.display import display, clear_output"
   ]
  },
  {
   "cell_type": "code",
   "execution_count": 2,
   "id": "informal-powell",
   "metadata": {},
   "outputs": [],
   "source": [
    "# !jupyter nbextension enable --py widgetsnbextension --sys-prefix\n",
    "# !jupyter serverextension enable voila --sys-prefix"
   ]
  },
  {
   "cell_type": "code",
   "execution_count": 3,
   "id": "c5a9948e",
   "metadata": {},
   "outputs": [],
   "source": [
    "# Image Widget\n",
    "\n",
    "file = open(\"wizard.jpg\", \"rb\")\n",
    "image = file.read()\n",
    "\n",
    "image_headline = widgets.Image(\n",
    "                    value=image,\n",
    "                    format='png',\n",
    "                    width='200'\n",
    "                )\n",
    "\n",
    "label_headline = widgets.Label(\n",
    "                    value='Photo by CDC on Unsplash',\n",
    "                    style={'description_width': 'initial'}\n",
    "                )\n",
    "\n",
    "vbox_headline = widgets.VBox([image_headline, label_headline])"
   ]
  },
  {
   "cell_type": "code",
   "execution_count": 4,
   "id": "reverse-belfast",
   "metadata": {},
   "outputs": [
    {
     "name": "stdout",
     "output_type": "stream",
     "text": [
      "Hey, Wizard.  Do you want to pick it up\n"
     ]
    }
   ],
   "source": [
    "# # grandson/granddaughter\n",
    "# print('Hey, Wizard.  Do you want to pick it up')\n",
    "# grand = widgets.ToggleButtons(\n",
    "#             options=['YES<br> pick it up.', 'NO, leave it.']\n",
    "#         )\n"
   ]
  },
  {
   "cell_type": "code",
   "execution_count": 5,
   "id": "4441e314",
   "metadata": {},
   "outputs": [],
   "source": [
    "# grandson/granddaughter\n",
    "\n",
    "grand = widgets.ToggleButtons(\n",
    "            options=['YES', 'NO']\n",
    "        )"
   ]
  },
  {
   "cell_type": "code",
   "execution_count": 6,
   "id": "headed-bloom",
   "metadata": {},
   "outputs": [],
   "source": [
    "date = widgets.DatePicker(description='Pick a Date')"
   ]
  },
  {
   "cell_type": "code",
   "execution_count": 7,
   "id": "3655b89a",
   "metadata": {},
   "outputs": [],
   "source": [
    "# number of friends\n",
    "\n",
    "friends = widgets.IntSlider(\n",
    "            value=3, # default value\n",
    "            min=0, \n",
    "            max=10,\n",
    "            step=1,\n",
    "            style={'description_width': 'initial', 'handle_color': '#16a085'} \n",
    "        )"
   ]
  },
  {
   "cell_type": "code",
   "execution_count": 8,
   "id": "b0843112",
   "metadata": {},
   "outputs": [],
   "source": [
    "# button send\n",
    "\n",
    "button_send = widgets.Button(\n",
    "                description='Send to grandma',\n",
    "                tooltip='walk',\n",
    "                style={'description_width': 'initial'}\n",
    "            )\n",
    "\n",
    "outputInv = widgets.Output()\n",
    "\n",
    "def on_button_clicked(event):\n",
    "    with output:\n",
    "        clear_output()\n",
    "        print(\"Sent message: \")\n",
    "        print(f\"Pick up a gift {item.value}. $#$#$##$\")\n",
    "        print(f\"Leave it%%%% {grand.value} )\n",
    "#         print(f\"Also, if you don't mind, I'll bring along {friends.value} hungry ghosts for your delicious food!\")\n",
    "\n",
    "button_send.on_click(on_button_clicked)\n",
    "\n",
    "vbox_result = widgets.VBox([button_send, outputInv])"
   ]
  },
  {
   "cell_type": "code",
   "execution_count": 9,
   "id": "c34d7879",
   "metadata": {},
   "outputs": [
    {
     "name": "stdout",
     "output_type": "stream",
     "text": [
      "item  a cloak\n",
      "items  ['a cloak', 'lucky charm', 'a hat', 'a staff', 'the missing kitten', 'a hair brush']\n"
     ]
    }
   ],
   "source": [
    "# item\n",
    "import random\n",
    "items = ['a cloak', 'lucky charm', 'a hat', 'a staff', 'the missing kitten', 'a hair brush']\n",
    "item = []\n",
    "# items = read_items()\n",
    "item = random.choice(items)\n",
    "print('item ', item)\n",
    "print('items ', items)\n",
    "\n",
    "from IPython.display import display\n",
    "# item = widgets.IntSlider()\n",
    "# print('item from IntSlider ', item)\n",
    "# display(itemx)"
   ]
  },
  {
   "cell_type": "code",
   "execution_count": 10,
   "id": "8e9678e5",
   "metadata": {},
   "outputs": [
    {
     "name": "stdout",
     "output_type": "stream",
     "text": [
      "itemw:  a cloak\n",
      "item:   a cloak\n",
      "   w  a cloak\n"
     ]
    }
   ],
   "source": [
    "\n",
    "itemw= item\n",
    "\n",
    "\n",
    "from IPython.display import display\n",
    "w = widgets.Output()\n",
    "w = item\n",
    "print('   w ', w)\n"
   ]
  },
  {
   "cell_type": "code",
   "execution_count": 11,
   "id": "ba0509ab",
   "metadata": {},
   "outputs": [],
   "source": [
    "# button send\n",
    "\n",
    "button_send = widgets.Button(\n",
    "                description='Walk',\n",
    "                tooltip='Walk',\n",
    "                style={'description_width': 'initial'}\n",
    "            )\n",
    "\n",
    "outputInv = widgets.Output()\n",
    "\n",
    "def on_button_clicked(event):\n",
    "    with outputInv:\n",
    "        clear_output()\n",
    "        print(\"Sent message: \")\n",
    "#         print(f\"Dear {w.value} This is your favourite {grand.value}, {name.value}.\")\n",
    "#         print(f\"I would love to come over on {itemw.value} for dinner, if that's okay for you!\")\n",
    "        print(f\"Also, if you don't mind, I'll bring along {grand.value} hungry ghosts for your delicious food!\")\n",
    "\n",
    "button_send.on_click(on_button_clicked)\n",
    "\n",
    "vbox_result = widgets.VBox([button_send, outputInv])\n",
    "\n"
   ]
  },
  {
   "cell_type": "code",
   "execution_count": 12,
   "id": "6f8c4732",
   "metadata": {},
   "outputs": [],
   "source": [
    "# button send\n",
    "\n",
    "button_send1 = widgets.Button(\n",
    "                description='Walk',\n",
    "                tooltip='Walk',\n",
    "                style={'description_width': 'initial'}\n",
    "            )\n",
    "\n",
    "outputInv1 = widgets.Output()\n",
    "\n",
    "def on_button_clicked1(event):\n",
    "    with outputInv1:\n",
    "        clear_output()\n",
    "        print(\"Sent message: \")\n",
    "#         print(f\"Dear {w.value} This is your favourite {grand.value}, {name.value}.\")\n",
    "        print(f\"I would love to come over on {itemw.value} for dinner, if that's okay for you!\")\n",
    "        print(f\"Also, if you don't mind, I'll bring along {friends.value} hungry ghosts for your delicious food!\")\n",
    "\n",
    "button_send.on_click(on_button_clicked1)\n",
    "\n",
    "vbox_result1 = widgets.VBox([button_send1, outputInv1])"
   ]
  },
  {
   "cell_type": "code",
   "execution_count": 13,
   "id": "fdcfb6c6",
   "metadata": {},
   "outputs": [],
   "source": [
    "# button send\n",
    "\n",
    "button_send2 = widgets.Button(\n",
    "                description='Show',\n",
    "                tooltip='Show',\n",
    "                style={'description_width': 'initial'}\n",
    "            )\n",
    "\n",
    "outputInv2 = widgets.Output()\n",
    "\n",
    "def on_button_clicked2(event):\n",
    "    with outputInv2:\n",
    "        clear_output()\n",
    "        print(\"Sent message: \")\n",
    "#         print(f\"Dear {w.value} This is your favourite {grand.value}, {name.value}.\")\n",
    "        print(f\"I would love to come over on {itemw.value} for dinner, if that's okay for you!\")\n",
    "        print(f\"Also, if you don't mind, I'll bring along {friends.value} hungry ghosts for your delicious food!\")\n",
    "\n",
    "button_send.on_click(on_button_clicked2)\n",
    "\n",
    "vbox_result2 = widgets.VBox([button_send2, outputInv2])\n"
   ]
  },
  {
   "cell_type": "code",
   "execution_count": 14,
   "id": "519d08c4",
   "metadata": {},
   "outputs": [],
   "source": [
    "# button send\n",
    "\n",
    "button_send3 = widgets.Button(\n",
    "                description='Drop',\n",
    "                tooltip='Drop',\n",
    "                style={'description_width': 'initial'}\n",
    "            )\n",
    "\n",
    "outputInv3 = widgets.Output()\n",
    "\n",
    "def on_button_clicked3(event):\n",
    "    with outputInv3:\n",
    "        clear_output()\n",
    "        print(\"Sent message: \")\n",
    "#         print(f\"Dear {w.value} This is your favourite {grand.value}, {name.value}.\")\n",
    "        print(f\"I would love to come over on {itemw.value} for dinner, if that's okay for you!\")\n",
    "        print(f\"Also, if you don't mind, I'll bring along {friends.value} hungry ghosts for your delicious food!\")\n",
    "\n",
    "button_send.on_click(on_button_clicked3)\n",
    "\n",
    "vbox_result3 = widgets.VBox([button_send3, outputInv3])"
   ]
  },
  {
   "cell_type": "code",
   "execution_count": 15,
   "id": "cb64efa7",
   "metadata": {},
   "outputs": [],
   "source": [
    "# button send\n",
    "# item\n",
    "\n",
    "\n",
    "output = widgets.Output()\n",
    "\n",
    "def on_button_clicked(event):\n",
    "    with output:\n",
    "        clear_output()\n",
    "        print(\"Sent message: \")\n",
    "        print(f\"Dear Grandma! {outputInv}, This is your favourite ,{item.value}.\")\n",
    "        print(f\"While walking do a path the wizard sees a {item.value} hungry ghosts for your delicious food!\")\n",
    "\n",
    "button_send.on_click(on_button_clicked)\n",
    " \n",
    "vbox_result = widgets.VBox([button_send, output])\n",
    "\n"
   ]
  },
  {
   "cell_type": "code",
   "execution_count": 16,
   "id": "thorough-royal",
   "metadata": {},
   "outputs": [],
   "source": [
    "# button send\n",
    "# item\n",
    "\n",
    "\n",
    "output = widgets.Output()\n",
    "\n",
    "def on_button_clicked(event):\n",
    "    with output:\n",
    "        clear_output()\n",
    "        print(\"Sent message: \")\n",
    "        print(f\"Take a look at this, Wizard.  You found {grand.value},{item.value}.\")\n",
    "#         print(f\"While walking do a path the wizard sees a {itemw.value} hungry ghosts for your delicious food!\")\n",
    "        print(f\"While walking do a path the wizard sees a {outputInv.value} hungry ghosts for your delicious food!\")\n",
    "\n",
    "button_send.on_click(on_button_clicked)\n",
    " \n",
    "vbox_result = widgets.VBox([button_send, output])"
   ]
  },
  {
   "cell_type": "code",
   "execution_count": 17,
   "id": "d72594a7",
   "metadata": {},
   "outputs": [],
   "source": [
    "import random"
   ]
  },
  {
   "cell_type": "code",
   "execution_count": 18,
   "id": "2ffe6bef",
   "metadata": {},
   "outputs": [
    {
     "name": "stdout",
     "output_type": "stream",
     "text": [
      "item  a tie dyed tee\n"
     ]
    }
   ],
   "source": [
    "# item\n",
    "# items = ['cloak', 'hat', 'staff', 'kitten']\n",
    "items = ['a basketball', 'a long bowthe hat', 'a tie dyed tee', 'the missing kitten']\n",
    "item = []\n",
    "# items = read_items()\n",
    "itemInv = []\n",
    "itemInv = random.choice(items)\n",
    "print('item ', itemInv)\n",
    "item = widgets.Text(placeholder=itemInv)"
   ]
  },
  {
   "cell_type": "code",
   "execution_count": 19,
   "id": "according-supervisor",
   "metadata": {},
   "outputs": [],
   "source": [
    "# def walk(inventory):\n",
    "#     # if len(inventory) == 4:\n",
    "#     #     print('Hey, Wizard!  You have 4 items (the max allowed) in your wizard bag, be aware that you will have to drop something before picking up another item')\n",
    "#     items = read_items()\n",
    "#     item = random.choice(items)\n",
    "#     print(\"While walking down a path, you see \" + item + \".\")\n",
    "#     choice = input(\"Do you want to grab it? (y/n): \").lower()\n",
    "#     if choice == \"y\":\n",
    "#         if len(inventory) >= 4:\n",
    "#             print(\"You can't carry any more items. \" + \n",
    "#                   \"Drop something first.\\n\")\n",
    "#         else:\n",
    "#             try:\n",
    "#                 inventory.append(item)\n",
    "#                 print(\"You picked up \" + item + \".\\n\")\n",
    "#                 write_inventory(inventory)\n",
    "#             except:\n",
    "#                 print('something went wrong.  Is this a fatal error, should we shut down?')\n",
    " \n"
   ]
  },
  {
   "cell_type": "code",
   "execution_count": 20,
   "id": "49948554",
   "metadata": {},
   "outputs": [],
   "source": [
    "# # # stacked left hand side\n",
    "\n",
    "# menu_0 = widgets.HTML(value=\"<h1>Wizard Inventory Game</h1>\")\n",
    "# menu_1 = widgets.HTML(value=\"<p>While walking down a path the wizard sees a</p>\")\n",
    "\n",
    "\n",
    "# menu_2= widgets.HTML(value=\"<p>show </p>\")\n",
    "# menu_3= widgets.HTML(value=\"<p>drop</p>\")\n",
    "# menu_4= widgets.HTML(value=w)\n",
    "\n",
    "# out1 = widgets.HTML(placeholder=(item.value)\n",
    "# vbox_menu = widgets.VBox([menu_0, menu_1, item, menu_2, menu_3, grand, out1, vbox_result, vbox_result2])\n",
    "# print('itemInv ', itemInv)"
   ]
  },
  {
   "cell_type": "code",
   "execution_count": 21,
   "id": "e066cba8",
   "metadata": {},
   "outputs": [
    {
     "name": "stdout",
     "output_type": "stream",
     "text": [
      "menu_0  <h2>Wizard Inventory Game</h2>\n",
      "menu_1  <p>COMMAND MENU</p>\n",
      "menu_2  HTML(value='<p>While walking down a path the wizard sees </p>')\n",
      "menu_2b  HTML(value='<p>While walking down a path the wizard sees </p>')\n",
      "w     a cloak\n",
      "itemInv  a tie dyed tee\n"
     ]
    }
   ],
   "source": [
    "# stacked right hand side\n",
    "# import random\n",
    "# items = ['cloak', 'hat', 'staff', 'kitten']\n",
    "# # items = read_items()\n",
    "# item = random.choice(items)\n",
    "# print('item ', item)\n",
    "\n",
    "menu_0 = widgets.HTML(value=\"<h2>Wizard Inventory Game</h2>\")\n",
    "menu_1 = widgets.HTML(value=\"<p>COMMAND MENU</p>\")\n",
    "# menu_1a = widgets.HTML(value=\"<p></t>walk</p>\")\n",
    "# menu_1b = widgets.HTML(value=\"<p></t>show</p>\")\n",
    "# menu_1c = widgets.HTML(value=\"<p></t>drop</p>\")\n",
    "menu_2= widgets.HTML(value=\"<p>While walking down a path the wizard sees </p>\")\n",
    "menu_2b= widgets.HTML(value=\"<p>While walking down a path the wizard sees </p>\")\n",
    "menu_3= widgets.HTML(value=\"<p>To pick it up, click yes, otherwise clcick no</p>\")\n",
    "menu_4= widgets.HTML(value=\"<p>Do you want to check your inventory?</p>\")\n",
    "print('menu_0 ', menu_0.value)\n",
    "print('menu_1 ', menu_1.value)\n",
    "# print('menu_1a ', menu_1a)\n",
    "# print('menu_1b ', menu_1b)\n",
    "# print('menu_1c ', menu_1c)\n",
    "print('menu_2 ', menu_2)\n",
    "print('menu_2b ', menu_2b)\n",
    "print('w    ', w)\n",
    "print('itemInv ', itemInv)\n",
    "# out1 = widgets.HTML(placeholder=(item.value)\n",
    "\n",
    "\n",
    "\n",
    "vbox_menu = widgets.VBox([menu_0, vbox_result1, vbox_result2, vbox_result3, menu_1, menu_2,item])"
   ]
  },
  {
   "cell_type": "code",
   "execution_count": 22,
   "id": "earlier-saturday",
   "metadata": {},
   "outputs": [
    {
     "data": {
      "application/vnd.jupyter.widget-view+json": {
       "model_id": "dac7a68be67b4d8b8c7c038368f8e346",
       "version_major": 2,
       "version_minor": 0
      },
      "text/plain": [
       "VBox(children=(VBox(children=(Image(value=b'\\xff\\xd8\\xff\\xe0\\x00\\x10JFIF\\x00\\x01\\x01\\x01\\x00d\\x00d\\x00\\x00\\xff…"
      ]
     },
     "metadata": {},
     "output_type": "display_data"
    }
   ],
   "source": [
    "page = widgets.VBox([vbox_headline, vbox_menu])\n",
    "display(page)"
   ]
  },
  {
   "cell_type": "code",
   "execution_count": 23,
   "id": "8009f607",
   "metadata": {},
   "outputs": [
    {
     "name": "stdout",
     "output_type": "stream",
     "text": [
      "anyio @ file:///C:/ci/anyio_1644481921011/work/dist\n",
      "argon2-cffi @ file:///opt/conda/conda-bld/argon2-cffi_1645000214183/work\n",
      "argon2-cffi-bindings @ file:///C:/ci/argon2-cffi-bindings_1644551690056/work\n",
      "asttokens @ file:///opt/conda/conda-bld/asttokens_1646925590279/work\n",
      "attrs @ file:///C:/b/abs_09s3y775ra/croot/attrs_1668696195628/work\n",
      "Babel==2.11.0\n",
      "backcall @ file:///home/ktietz/src/ci/backcall_1611930011877/work\n",
      "beautifulsoup4 @ file:///C:/ci/beautifulsoup4_1650293025093/work\n",
      "bleach @ file:///opt/conda/conda-bld/bleach_1641577558959/work\n",
      "certifi @ file:///C:/b/abs_85o_6fm0se/croot/certifi_1671487778835/work/certifi\n",
      "cffi @ file:///C:/b/abs_49n3v2hyhr/croot/cffi_1670423218144/work\n",
      "charset-normalizer==2.1.1\n",
      "colorama @ file:///C:/b/abs_a9ozq0l032/croot/colorama_1672387194846/work\n",
      "contourpy==1.0.6\n",
      "cycler==0.11.0\n",
      "debugpy @ file:///C:/ci/debugpy_1637091961445/work\n",
      "decorator @ file:///opt/conda/conda-bld/decorator_1643638310831/work\n",
      "defusedxml @ file:///tmp/build/80754af9/defusedxml_1615228127516/work\n",
      "entrypoints @ file:///C:/ci/entrypoints_1649926621128/work\n",
      "executing @ file:///opt/conda/conda-bld/executing_1646925071911/work\n",
      "fastjsonschema @ file:///C:/Users/BUILDE~1/AppData/Local/Temp/abs_ebruxzvd08/croots/recipe/python-fastjsonschema_1661376484940/work\n",
      "flit_core @ file:///opt/conda/conda-bld/flit-core_1644941570762/work/source/flit_core\n",
      "fonttools==4.38.0\n",
      "idna @ file:///C:/b/abs_bdhbebrioa/croot/idna_1666125572046/work\n",
      "importlib-metadata==6.0.0\n",
      "ipykernel @ file:///C:/b/abs_21ykzkm7y_/croots/recipe/ipykernel_1662361803478/work\n",
      "ipython @ file:///C:/b/abs_536xsn7rj0/croot/ipython_1670919360443/work\n",
      "ipython-genutils @ file:///tmp/build/80754af9/ipython_genutils_1606773439826/work\n",
      "ipywidgets==8.0.4\n",
      "jedi @ file:///C:/ci/jedi_1644315428289/work\n",
      "Jinja2 @ file:///C:/b/abs_7cdis66kl9/croot/jinja2_1666908141852/work\n",
      "json5==0.9.11\n",
      "jsonschema==4.17.3\n",
      "jupyter-server @ file:///C:/b/abs_1cfi3__jl8/croot/jupyter_server_1671707636383/work\n",
      "jupyter_client==7.4.1\n",
      "jupyter_core @ file:///C:/b/abs_84df679bho/croot/jupyter_core_1672332237650/work\n",
      "jupyterlab-pygments @ file:///tmp/build/80754af9/jupyterlab_pygments_1601490720602/work\n",
      "jupyterlab-widgets==3.0.5\n",
      "jupyterlab_server==2.18.0\n",
      "kiwisolver==1.4.4\n",
      "lxml @ file:///C:/ci/lxml_1657527445690/work\n",
      "MarkupSafe @ file:///C:/ci/markupsafe_1654508077284/work\n",
      "matplotlib==3.6.2\n",
      "matplotlib-inline @ file:///C:/ci/matplotlib-inline_1661915841596/work\n",
      "mistune @ file:///C:/ci/mistune_1607359457024/work\n",
      "nbclassic @ file:///C:/b/abs_26e3fkk516/croot/nbclassic_1668174974037/work\n",
      "nbclient @ file:///C:/ci/nbclient_1650290387259/work\n",
      "nbconvert @ file:///C:/b/abs_4av3q4okro/croot/nbconvert_1668450658054/work\n",
      "nbformat @ file:///C:/b/abs_85_3g7dkt4/croot/nbformat_1670352343720/work\n",
      "nest-asyncio @ file:///C:/b/abs_3a_4jsjlqu/croot/nest-asyncio_1672387322800/work\n",
      "notebook @ file:///C:/b/abs_ca13hqvuzw/croot/notebook_1668179888546/work\n",
      "notebook_shim @ file:///C:/b/abs_ebfczttg6x/croot/notebook-shim_1668160590914/work\n",
      "numpy==1.24.1\n",
      "packaging @ file:///C:/b/abs_cfsup8ur87/croot/packaging_1671697442297/work\n",
      "pandocfilters @ file:///opt/conda/conda-bld/pandocfilters_1643405455980/work\n",
      "parso @ file:///opt/conda/conda-bld/parso_1641458642106/work\n",
      "pickleshare @ file:///tmp/build/80754af9/pickleshare_1606932040724/work\n",
      "Pillow==9.4.0\n",
      "platformdirs @ file:///C:/b/abs_73cc5cz_1u/croots/recipe/platformdirs_1662711386458/work\n",
      "prometheus-client @ file:///C:/Windows/TEMP/abs_ab9nx8qb08/croots/recipe/prometheus_client_1659455104602/work\n",
      "prompt-toolkit @ file:///C:/b/abs_6coz5_9f2s/croot/prompt-toolkit_1672387908312/work\n",
      "psutil @ file:///C:/Windows/Temp/abs_b2c2fd7f-9fd5-4756-95ea-8aed74d0039flsd9qufz/croots/recipe/psutil_1656431277748/work\n",
      "pure-eval @ file:///opt/conda/conda-bld/pure_eval_1646925070566/work\n",
      "pycparser @ file:///tmp/build/80754af9/pycparser_1636541352034/work\n",
      "Pygments @ file:///opt/conda/conda-bld/pygments_1644249106324/work\n",
      "pyparsing==3.0.9\n",
      "pyrsistent @ file:///C:/ci/pyrsistent_1636093225342/work\n",
      "python-dateutil @ file:///tmp/build/80754af9/python-dateutil_1626374649649/work\n",
      "pytz==2022.7\n",
      "pywin32==305.1\n",
      "pywinpty @ file:///C:/ci_310/pywinpty_1644230983541/work/target/wheels/pywinpty-2.0.2-cp39-none-win_amd64.whl\n",
      "pyzmq @ file:///C:/ci/pyzmq_1657615952984/work\n",
      "requests==2.28.1\n",
      "Send2Trash @ file:///tmp/build/80754af9/send2trash_1632406701022/work\n",
      "six @ file:///tmp/build/80754af9/six_1644875935023/work\n",
      "sniffio @ file:///C:/ci/sniffio_1614030527509/work\n",
      "soupsieve @ file:///C:/b/abs_fasraqxhlv/croot/soupsieve_1666296394662/work\n",
      "stack-data @ file:///opt/conda/conda-bld/stack_data_1646927590127/work\n",
      "terminado @ file:///C:/b/abs_25nakickad/croot/terminado_1671751845491/work\n",
      "tinycss2 @ file:///C:/b/abs_52w5vfuaax/croot/tinycss2_1668168823131/work\n",
      "tornado @ file:///C:/ci/tornado_1662458743919/work\n",
      "traitlets @ file:///C:/b/abs_e5m_xjjl94/croot/traitlets_1671143896266/work\n",
      "typing_extensions @ file:///C:/b/abs_89eui86zuq/croot/typing_extensions_1669923792806/work\n",
      "urllib3==1.26.13\n",
      "voila==0.4.0\n",
      "wcwidth @ file:///Users/ktietz/demo/mc3/conda-bld/wcwidth_1629357192024/work\n",
      "webencodings==0.5.1\n",
      "websocket-client @ file:///C:/ci/websocket-client_1614804375980/work\n",
      "websockets==10.4\n",
      "widgetsnbextension==4.0.5\n",
      "wincertstore==0.2\n",
      "zipp==3.11.0\n"
     ]
    }
   ],
   "source": [
    "!pip freeze requirements.txt"
   ]
  },
  {
   "cell_type": "code",
   "execution_count": null,
   "id": "abf312e0",
   "metadata": {},
   "outputs": [],
   "source": []
  },
  {
   "cell_type": "code",
   "execution_count": null,
   "id": "01be5bc2",
   "metadata": {},
   "outputs": [],
   "source": []
  },
  {
   "cell_type": "code",
   "execution_count": null,
   "id": "7604159e",
   "metadata": {},
   "outputs": [],
   "source": []
  },
  {
   "cell_type": "code",
   "execution_count": null,
   "id": "e495bac9",
   "metadata": {},
   "outputs": [],
   "source": []
  },
  {
   "cell_type": "code",
   "execution_count": null,
   "id": "b43734fa",
   "metadata": {},
   "outputs": [],
   "source": []
  }
 ],
 "metadata": {
  "kernelspec": {
   "display_name": "Python 3 (ipykernel)",
   "language": "python",
   "name": "python3"
  },
  "language_info": {
   "codemirror_mode": {
    "name": "ipython",
    "version": 3
   },
   "file_extension": ".py",
   "mimetype": "text/x-python",
   "name": "python",
   "nbconvert_exporter": "python",
   "pygments_lexer": "ipython3",
   "version": "3.9.15"
  }
 },
 "nbformat": 4,
 "nbformat_minor": 5
}
